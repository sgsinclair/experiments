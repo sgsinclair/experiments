{
 "cells": [
  {
   "cell_type": "code",
   "execution_count": 50,
   "metadata": {
    "collapsed": true
   },
   "outputs": [],
   "source": [
    "from lxml import etree\n",
    "\n",
    "testfile = \"sampleECCOtxt.xml\"\n",
    "taglist = ['documentID', 'ESTCID', 'pubDate','ESTCID',\n",
    "           'language','module','locSubject','notes',\n",
    "           'fullTitle','displayTitle','currentVolume', \n",
    "           'totalVolumes', 'imprintPublisher','imprintFull',\n",
    "           'imprintCity', 'publicationPlace']"
   ]
  },
  {
   "cell_type": "code",
   "execution_count": 51,
   "metadata": {
    "collapsed": true
   },
   "outputs": [],
   "source": [
    "# here we iterparse multiple times looking for a specific tag\n",
    "def iterparse_multiple(file, tags):\n",
    "    elementlist = []\n",
    "    for xmltag in tags:\n",
    "        context = etree.iterparse(file, events=('end',), tag=xmltag)\n",
    "        for event, elem in context:\n",
    "            elementlist.append(elem.text)\n",
    "    return elementlist"
   ]
  },
  {
   "cell_type": "code",
   "execution_count": 52,
   "metadata": {},
   "outputs": [
    {
     "name": "stdout",
     "output_type": "stream",
     "text": [
      "CPU times: user 5.56 s, sys: 863 ms, total: 6.43 s\n",
      "Wall time: 6.43 s\n"
     ]
    },
    {
     "data": {
      "text/plain": [
       "21"
      ]
     },
     "execution_count": 52,
     "metadata": {},
     "output_type": "execute_result"
    }
   ],
   "source": [
    "%%time \n",
    "\n",
    "len(iterparse_multiple(testfile, taglist))"
   ]
  },
  {
   "cell_type": "code",
   "execution_count": 55,
   "metadata": {
    "collapsed": true
   },
   "outputs": [],
   "source": [
    "# here we iterparse once and look at each element\n",
    "def iterparse_single(file, tags):\n",
    "    tagset = set(tags)\n",
    "    elementlist = []\n",
    "    context = etree.iterparse(file)\n",
    "    for event, elem in context:\n",
    "        if elem.tag in tagset:\n",
    "            elementlist.append(elem.text)\n",
    "    return elementlist"
   ]
  },
  {
   "cell_type": "code",
   "execution_count": 56,
   "metadata": {},
   "outputs": [
    {
     "name": "stdout",
     "output_type": "stream",
     "text": [
      "CPU times: user 602 ms, sys: 61 ms, total: 663 ms\n",
      "Wall time: 661 ms\n"
     ]
    },
    {
     "data": {
      "text/plain": [
       "20"
      ]
     },
     "execution_count": 56,
     "metadata": {},
     "output_type": "execute_result"
    }
   ],
   "source": [
    "%%time \n",
    "\n",
    "len(iterparse_single(testfile, taglist))"
   ]
  }
 ],
 "metadata": {
  "kernelspec": {
   "display_name": "Python 3",
   "language": "python",
   "name": "python3"
  },
  "language_info": {
   "codemirror_mode": {
    "name": "ipython",
    "version": 3
   },
   "file_extension": ".py",
   "mimetype": "text/x-python",
   "name": "python",
   "nbconvert_exporter": "python",
   "pygments_lexer": "ipython3",
   "version": "3.6.3"
  }
 },
 "nbformat": 4,
 "nbformat_minor": 2
}
